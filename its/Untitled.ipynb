{
 "cells": [
  {
   "cell_type": "code",
   "execution_count": null,
   "id": "25e685ff-8502-4b36-a4e9-e13f0c24615d",
   "metadata": {},
   "outputs": [],
   "source": []
  },
  {
   "cell_type": "code",
   "execution_count": null,
   "id": "63bdbd64-ee2b-462f-b82c-ab67e13a1ec5",
   "metadata": {},
   "outputs": [],
   "source": []
  },
  {
   "cell_type": "code",
   "execution_count": null,
   "id": "435697f9-79c2-4ad2-ab87-86420329f533",
   "metadata": {},
   "outputs": [],
   "source": [
    "let sh = require('shelljs')\n"
   ]
  },
  {
   "cell_type": "code",
   "execution_count": null,
   "id": "d470d9db",
   "metadata": {},
   "outputs": [],
   "source": [
    "let sh = require('shelljs')\n"
   ]
  },
  {
   "cell_type": "code",
   "execution_count": null,
   "id": "2e79ce6d-7c23-4c13-8c37-5a137634d899",
   "metadata": {},
   "outputs": [],
   "source": []
  }
 ],
 "metadata": {
  "kernelspec": {
   "display_name": "",
   "name": ""
  },
  "language_info": {
   "name": ""
  }
 },
 "nbformat": 4,
 "nbformat_minor": 5
}
